{
  "nbformat": 4,
  "nbformat_minor": 0,
  "metadata": {
    "colab": {
      "name": "Fibonacci optimizado.ipynb",
      "provenance": []
    },
    "kernelspec": {
      "name": "python3",
      "display_name": "Python 3"
    }
  },
  "cells": [
    {
      "cell_type": "code",
      "metadata": {
        "id": "dc_LCBna77Lp",
        "colab_type": "code",
        "colab": {
          "base_uri": "https://localhost:8080/",
          "height": 136
        },
        "outputId": "9dfeba9a-a2de-4362-8062-5df60bd38f4e"
      },
      "source": [
        "# Algoritmo ineficiente\n",
        "def fibonacci_recursivo(n):\n",
        "  if n == 0 or n == 1:\n",
        "    return 1\n",
        "\n",
        "  return fibonacci_recursivo(n-1) + fibonacci_recursivo(n-2)\n",
        "\n",
        "# Algoritmo optimizado\n",
        "def fibonacci_dinamico(n, memo = {}):\n",
        "  if n == 0 or n == 1:\n",
        "    return 1\n",
        "\n",
        "  try:\n",
        "    return memo[n]\n",
        "  except KeyError:\n",
        "    resultado = fibonacci_dinamico(n-1, memo) + fibonacci_dinamico(n - 2, memo)\n",
        "    memo[n] = resultado\n",
        "\n",
        "    return resultado\n",
        "\n",
        "if __name__ == '__main__':\n",
        "  opt = -1\n",
        "\n",
        "  while opt < 1 or opt > 2:\n",
        "    print(\"Selecciona un algoritmo:\")\n",
        "    print(\"1. Ineficiente\")\n",
        "    print(\"2. Optimizado\")\n",
        "    opt = int(input())\n",
        "\n",
        "  print(\"Ingresa un entero a calcular: \")\n",
        "  n = int(input())\n",
        "\n",
        "  if opt == 1:\n",
        "    resultado = fibonacci_recursivo(n)\n",
        "  else:\n",
        "    resultado = fibonacci_dinamico(n)\n",
        "\n",
        "  print(\"Resultado: \", resultado)"
      ],
      "execution_count": 26,
      "outputs": [
        {
          "output_type": "stream",
          "text": [
            "Selecciona un algoritmo:\n",
            "1. Ineficiente\n",
            "2. Optimizado\n",
            "2\n",
            "Ingresa un entero a calcular: \n",
            "100\n",
            "Resultado:  573147844013817084101\n"
          ],
          "name": "stdout"
        }
      ]
    }
  ]
}